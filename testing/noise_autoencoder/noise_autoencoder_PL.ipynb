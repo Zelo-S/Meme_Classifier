{
 "cells": [
  {
   "cell_type": "code",
   "execution_count": null,
   "metadata": {},
   "outputs": [],
   "source": [
    "import torch\n",
    "from torch import nn\n",
    "import torch.nn.functional as F\n",
    "from torch.utils.data import DataLoader, Dataset\n",
    "from torchvision import transforms\n",
    "import pytorch_lightning as pl\n",
    "from pytorch_lightning import Trainer\n",
    "from pytorch_lightning import LightningModule\n",
    "import matplotlib.pyplot as plt\n",
    "import albumentations as A\n",
    "from albumentations.pytorch.transforms import ToTensorV2\n",
    "from skimage import io\n",
    "from glob import glob\n",
    "from imgaug import augmenters as iaa\n",
    "import os"
   ]
  },
  {
   "cell_type": "markdown",
   "metadata": {},
   "source": [
    "## HPs"
   ]
  },
  {
   "cell_type": "code",
   "execution_count": null,
   "metadata": {},
   "outputs": [],
   "source": [
    "SAVE_PATH = \"./datasets/\"\n",
    "BATCH_SIZE = 1 \n",
    "EPOCHS = 200 \n",
    "MAX_SANITY_STEPS = 2\n",
    "\n",
    "A_transforms = A.Compose([\n",
    "    A.Resize(height=256, width=256),\n",
    "    A.ToGray(always_apply=True, p=1),\n",
    "    ToTensorV2()\n",
    "])"
   ]
  },
  {
   "cell_type": "code",
   "execution_count": null,
   "metadata": {},
   "outputs": [],
   "source": [
    "\n",
    "class ImageDataset(Dataset):\n",
    "    def __init__(self, image_dir, transform=None, additional_transforms=False):\n",
    "        super().__init__()\n",
    "        self.image_dir = image_dir\n",
    "        self.images_list = glob(self.image_dir + \"/*\")\n",
    "        self.transform = transform\n",
    "        self.additional_transforms = additional_transforms\n",
    "\n",
    "    def __len__(self):\n",
    "        return len(self.images_list)\n",
    "        \n",
    "    def __getitem__(self, index):\n",
    "        img_name = self.images_list[index]\n",
    "        image = io.imread(img_name)\n",
    "        noisy_image = image\n",
    "\n",
    "        if(self.additional_transforms):\n",
    "            iaa_transforms = iaa.Sequential([iaa.SaltAndPepper(0.3)])\n",
    "            noisy_image = iaa_transforms.augment_image(image=noisy_image)     \n",
    "\n",
    "        image = self.transform(image=image) \n",
    "        noisy_image = self.transform(image=noisy_image) \n",
    "        return {\"Noisy\": noisy_image, \"Original\": image}"
   ]
  },
  {
   "cell_type": "code",
   "execution_count": null,
   "metadata": {},
   "outputs": [],
   "source": [
    "train_ds_noised = ImageDataset(image_dir=\"./images/\", transform=A_transforms, additional_transforms=True)\n",
    "print(f\"Length of noised train dataset: {train_ds_noised.__len__()}\")\n"
   ]
  },
  {
   "cell_type": "markdown",
   "metadata": {},
   "source": [
    "<h2>Show Initial Image</h2>"
   ]
  },
  {
   "cell_type": "code",
   "execution_count": null,
   "metadata": {},
   "outputs": [],
   "source": [
    "for i in range(train_ds_noised.__len__()):\n",
    "    print(f\"Image shape at index: {i} is {train_ds_noised.__getitem__(i)['Noisy']['image'].shape}\")\n",
    "    plt.title(f\"Figure #{i}\")\n",
    "    plt.subplot(121)\n",
    "    plt.imshow(train_ds_noised.__getitem__(i)['Noisy']['image'].permute(1, 2, 0))\n",
    "    plt.subplot(122)\n",
    "    plt.imshow(train_ds_noised.__getitem__(i)['Original']['image'].permute(1, 2, 0))\n",
    "    plt.figure()"
   ]
  },
  {
   "cell_type": "code",
   "execution_count": null,
   "metadata": {},
   "outputs": [],
   "source": [
    "train_loader_noised = DataLoader(train_ds_noised, batch_size=BATCH_SIZE)\n",
    "print(len(train_loader_noised))"
   ]
  },
  {
   "cell_type": "markdown",
   "metadata": {},
   "source": [
    "## Custom Autoencoder model"
   ]
  },
  {
   "cell_type": "code",
   "execution_count": null,
   "metadata": {},
   "outputs": [],
   "source": [
    "class Encoder(nn.Module):\n",
    "    def __init__(self):\n",
    "        super().__init__()\n",
    "        self.l1 = nn.Sequential(\n",
    "            nn.Conv2d(in_channels=3, out_channels=64, kernel_size=3, padding='same'),\n",
    "            nn.ReLU(),\n",
    "            nn.MaxPool2d(kernel_size=2, stride=2),\n",
    "\n",
    "            nn.Conv2d(in_channels=64, out_channels=32, kernel_size=3, padding='same'),\n",
    "            nn.ReLU(),\n",
    "            nn.MaxPool2d(kernel_size=2, stride=2),\n",
    "\n",
    "            nn.Conv2d(in_channels=32, out_channels=16, kernel_size=3, padding='same'),\n",
    "            nn.ReLU(),\n",
    "            nn.MaxPool2d(kernel_size=2, stride=2),\n",
    "\n",
    "            nn.Conv2d(in_channels=16, out_channels=16, kernel_size=3, padding='same'),\n",
    "            nn.ReLU(),\n",
    "            nn.MaxPool2d(kernel_size=2, stride=2),\n",
    "        )\n",
    "        \n",
    "    def forward(self, x):\n",
    "        return self.l1(x)\n",
    "    \n",
    "class Decoder(nn.Module):\n",
    "    def __init__(self):\n",
    "        super().__init__()\n",
    "        self.l1 = nn.Sequential(\n",
    "            nn.Conv2d(in_channels=16, out_channels=16, kernel_size=3, padding='same'),\n",
    "            nn.ReLU(),\n",
    "            nn.UpsamplingNearest2d(scale_factor=2),\n",
    "\n",
    "            nn.Conv2d(in_channels=16, out_channels=32, kernel_size=3, padding='same'),\n",
    "            nn.ReLU(),\n",
    "            nn.UpsamplingNearest2d(scale_factor=2),\n",
    "\n",
    "            nn.Conv2d(in_channels=32, out_channels=64, kernel_size=3, padding='same'),\n",
    "            nn.ReLU(),\n",
    "            nn.UpsamplingNearest2d(scale_factor=2),\n",
    "\n",
    "            nn.Conv2d(in_channels=64, out_channels=3, kernel_size=3, padding='same'),\n",
    "            nn.UpsamplingNearest2d(scale_factor=2),\n",
    "        )\n",
    "    def forward(self, x):\n",
    "        return self.l1(x)"
   ]
  },
  {
   "cell_type": "markdown",
   "metadata": {},
   "source": [
    "## ImageAutoEncodingModule"
   ]
  },
  {
   "cell_type": "code",
   "execution_count": null,
   "metadata": {},
   "outputs": [],
   "source": [
    "class ImageAutoEncodingModule(LightningModule):\n",
    "    def __init__(self, encoder, decoder):\n",
    "        super().__init__()\n",
    "        self.encoder = encoder\n",
    "        self.decoder = decoder \n",
    "    \n",
    "    def training_step(self, batch, batch_idx):\n",
    "        x_noise = batch['Noisy']['image'].float()\n",
    "        x_target = batch['Original']['image'].float()\n",
    "\n",
    "        x_1 = self.encoder(x_noise)\n",
    "        x_pred = self.decoder(x_1)\n",
    "        \n",
    "        #print(\"Noisy in\", x_noise.shape)\n",
    "        #print(\"Original in\", x_target.shape)\n",
    "        #print(\"Pred out\", x_pred.shape)\n",
    "\n",
    "        loss = F.mse_loss(x_pred, x_target)\n",
    "        return loss\n",
    "    \n",
    "    def test_step(self, batch, batch_idx):\n",
    "        x_noise = batch['Noisy']['image'].float()\n",
    "        x_target = batch['Original']['image'].float()\n",
    "\n",
    "        x_1 = self.encoder(x_noise)\n",
    "        x_pred = self.decoder(x_1)\n",
    "\n",
    "        loss = F.mse_loss(x_pred, x_target)\n",
    "        self.log(\"test_loss\", loss)\n",
    "        \n",
    "        x_pred = x_pred.cpu()\n",
    "        x_target = x_target.cpu()\n",
    "        \n",
    "        plt.title(f\"Figure #{batch_idx}\")\n",
    "        plt.subplot(121)\n",
    "        plt.title(\"Target image\")\n",
    "        plt.imshow(x_target[0].permute(1, 2, 0))\n",
    "        plt.subplot(122)\n",
    "        plt.title(\"Predicted image\")\n",
    "        plt.imshow(x_pred[0].permute(1, 2, 0))\n",
    "        plt.figure()\n",
    "\n",
    "    def configure_optimizers(self):\n",
    "        optimizer = torch.optim.Adam(self.parameters(), lr=1e-3)\n",
    "        return optimizer"
   ]
  },
  {
   "cell_type": "markdown",
   "metadata": {},
   "source": [
    "## Training"
   ]
  },
  {
   "cell_type": "code",
   "execution_count": null,
   "metadata": {},
   "outputs": [],
   "source": [
    "IS_TRAINING = False\n",
    "\n",
    "autoencoder = ImageAutoEncodingModule(Encoder(), Decoder())\n",
    "trainer = Trainer(accelerator=\"auto\", devices=1 if torch.cuda.is_available() else None, max_epochs=EPOCHS, num_sanity_val_steps=MAX_SANITY_STEPS)\n",
    "if(IS_TRAINING):\n",
    "    trainer.fit(model=autoencoder, train_dataloaders=train_loader_noised)"
   ]
  },
  {
   "cell_type": "markdown",
   "metadata": {},
   "source": [
    "<h2>Testing</h2>"
   ]
  },
  {
   "cell_type": "code",
   "execution_count": null,
   "metadata": {},
   "outputs": [],
   "source": [
    "trainer.test(model=autoencoder, ckpt_path=\"./lightning_logs/version_7/checkpoints/epoch=199-step=1600.ckpt\", dataloaders=train_loader_noised)"
   ]
  }
 ],
 "metadata": {
  "kernelspec": {
   "display_name": "Python 3.9.13 ('tfMain')",
   "language": "python",
   "name": "python3"
  },
  "language_info": {
   "codemirror_mode": {
    "name": "ipython",
    "version": 3
   },
   "file_extension": ".py",
   "mimetype": "text/x-python",
   "name": "python",
   "nbconvert_exporter": "python",
   "pygments_lexer": "ipython3",
   "version": "3.9.13"
  },
  "orig_nbformat": 4,
  "vscode": {
   "interpreter": {
    "hash": "b5001655fb9ef9e1e3f83e925a070ac29efc62bffb18c4b0983ded43fc786d08"
   }
  }
 },
 "nbformat": 4,
 "nbformat_minor": 2
}
